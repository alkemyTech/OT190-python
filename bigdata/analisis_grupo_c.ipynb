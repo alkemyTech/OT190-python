{
 "cells": [
  {
   "cell_type": "markdown",
   "metadata": {},
   "source": [
    "Daiana Alonso - Utilizar MapReduce para el grupo de datos C "
   ]
  },
  {
   "cell_type": "markdown",
   "metadata": {},
   "source": [
    "Librerias necesarias para la ejecución de esta notebook"
   ]
  },
  {
   "cell_type": "code",
   "execution_count": 1,
   "metadata": {},
   "outputs": [],
   "source": [
    "from functools import reduce\n",
    "import xml.etree.ElementTree as ET\n",
    "from lib.chunckify import chunckify\n",
    "from collections import Counter\n",
    "import math\n",
    "import re\n",
    "import os\n",
    "import pandas as pd\n",
    "import seaborn as sns"
   ]
  },
  {
   "cell_type": "markdown",
   "metadata": {},
   "source": [
    "Carga del archivo que contiene los datos sobre posts en la plataforma Stack Overflow"
   ]
  },
  {
   "cell_type": "code",
   "execution_count": 2,
   "metadata": {},
   "outputs": [],
   "source": [
    "# Busqueda del path donde se está ejecutando el archivo\n",
    "path_actual = os.path.abspath('')\n",
    "\n",
    "# Path de la carpeta output\n",
    "path_output = os.path.join(path_actual, \"output\")\n",
    "\n",
    "# Path del archivo posts.xml\n",
    "path_posts = os.path.join(path_actual, \"dataset/Stack Overflow 11-2010/112010 Meta Stack Overflow/posts.xml\")"
   ]
  },
  {
   "cell_type": "markdown",
   "metadata": {},
   "source": [
    "### Top 10 de post con mayores respuestas aceptadas"
   ]
  },
  {
   "cell_type": "markdown",
   "metadata": {},
   "source": [
    "Por cada post de tipo pregunta, realiza la extracción de los tags que tuvieron respuestas aceptadas"
   ]
  },
  {
   "cell_type": "code",
   "execution_count": 3,
   "metadata": {},
   "outputs": [],
   "source": [
    "tag_regex = re.compile(\"<([^>]+)>\")\n",
    "\n",
    "def tags_accepted_answer_extractor(row):\n",
    "    \"\"\"\n",
    "    Obtengo los tags que tuvieron respuestas aceptadas\n",
    "    \"\"\"\n",
    "    post_type = row.attrib.get(\"PostTypeId\")\n",
    "    # Si el tipo del post no es pregunta, lo ignoro\n",
    "    if post_type != \"1\":\n",
    "        return\n",
    "    else:\n",
    "        try:\n",
    "            accepted_id = row.attrib.get(\"AcceptedAnswerId\")\n",
    "            tags = row.attrib.get(\"Tags\")\n",
    "        except Exception as e:\n",
    "            print(f\"Error al obtener datos: {e}\")\n",
    "        else:\n",
    "            tag_list = tag_regex.findall(tags)\n",
    "            # Acumular solo si la respuesta es aceptada\n",
    "            if accepted_id:\n",
    "                return tag_list"
   ]
  },
  {
   "cell_type": "markdown",
   "metadata": {},
   "source": [
    "Aplica a cada conjunto de datos la función de extracción"
   ]
  },
  {
   "cell_type": "code",
   "execution_count": 4,
   "metadata": {},
   "outputs": [],
   "source": [
    "def tag_mapper(data):\n",
    "    tags_aceptados = list(map(tags_accepted_answer_extractor, data))\n",
    "    tags_aceptados = list(filter(None, tags_aceptados))\n",
    "    # Achato la lista\n",
    "    data_process = [item for sublist in tags_aceptados for item in sublist]\n",
    "    return dict(Counter(data_process))"
   ]
  },
  {
   "cell_type": "markdown",
   "metadata": {},
   "source": [
    "Por cada tag, la función suma la cantidad de respuestas aceptadas"
   ]
  },
  {
   "cell_type": "code",
   "execution_count": 5,
   "metadata": {},
   "outputs": [],
   "source": [
    "def add_reducer(data1, data2):\n",
    "    for key, value in data2.items():\n",
    "        try:\n",
    "            if key in data1.keys():\n",
    "                # Si el tag coincide, los sumo\n",
    "                data1.update({key: data1[key] + value})\n",
    "            else:\n",
    "                data1.update({key: value})\n",
    "        except:\n",
    "            if not isinstance(data1[key], int) or not isinstance(value, int):\n",
    "                print(\n",
    "                    f'Los valores en los diccionarios deben ser del tipo \"int\" {TypeError}'\n",
    "                )\n",
    "    return data1"
   ]
  },
  {
   "cell_type": "markdown",
   "metadata": {},
   "source": [
    "De acuerdo a los datos resultantes, calcula el top 10"
   ]
  },
  {
   "cell_type": "code",
   "execution_count": 6,
   "metadata": {},
   "outputs": [],
   "source": [
    "def calculate_top_10(data):\n",
    "    \"\"\"\n",
    "    Devuelve el top 10\n",
    "    \"\"\"\n",
    "    return dict(Counter(data).most_common(10))"
   ]
  },
  {
   "cell_type": "markdown",
   "metadata": {},
   "source": [
    "Al conjunto de datos se le aplica MapReduce para extraer la información necesaria, luego se calcula el top 10 de tags y se guarda el resultado en un archivo .csv"
   ]
  },
  {
   "cell_type": "code",
   "execution_count": 7,
   "metadata": {},
   "outputs": [],
   "source": [
    "try:\n",
    "    # Levanto el archivo XML de posts\n",
    "    tree = ET.parse(path_posts)\n",
    "    root = tree.getroot()\n",
    "    # Tomo chunks de 100 datos\n",
    "    data_chunks = chunckify(root, 100)\n",
    "    # Map\n",
    "    mapped = list(map(tag_mapper, data_chunks))\n",
    "    # Reduce\n",
    "    reduced = reduce(add_reducer, mapped)\n",
    "    # Calculo el top\n",
    "    top10 = calculate_top_10(reduced)\n",
    "    # Guardo en archivo .csv\n",
    "    df = pd.DataFrame(top10.items(), columns=['Tag', 'Cantidad respuestas aceptadas'])\n",
    "    df.to_csv(f'{path_output}/top_10_aceptadas.csv', index=False)\n",
    "except Exception as e:\n",
    "    print(e)"
   ]
  },
  {
   "cell_type": "markdown",
   "metadata": {},
   "source": [
    "Muestro los resultados obtenidos"
   ]
  },
  {
   "cell_type": "code",
   "execution_count": 8,
   "metadata": {},
   "outputs": [
    {
     "data": {
      "text/html": [
       "<div>\n",
       "<style scoped>\n",
       "    .dataframe tbody tr th:only-of-type {\n",
       "        vertical-align: middle;\n",
       "    }\n",
       "\n",
       "    .dataframe tbody tr th {\n",
       "        vertical-align: top;\n",
       "    }\n",
       "\n",
       "    .dataframe thead th {\n",
       "        text-align: right;\n",
       "    }\n",
       "</style>\n",
       "<table border=\"1\" class=\"dataframe\">\n",
       "  <thead>\n",
       "    <tr style=\"text-align: right;\">\n",
       "      <th></th>\n",
       "      <th>Tag</th>\n",
       "      <th>Cantidad de respuestas aceptadas</th>\n",
       "    </tr>\n",
       "  </thead>\n",
       "  <tbody>\n",
       "    <tr>\n",
       "      <th>0</th>\n",
       "      <td>discussion</td>\n",
       "      <td>2875</td>\n",
       "    </tr>\n",
       "    <tr>\n",
       "      <th>1</th>\n",
       "      <td>feature-request</td>\n",
       "      <td>1775</td>\n",
       "    </tr>\n",
       "    <tr>\n",
       "      <th>2</th>\n",
       "      <td>support</td>\n",
       "      <td>1723</td>\n",
       "    </tr>\n",
       "    <tr>\n",
       "      <th>3</th>\n",
       "      <td>bug</td>\n",
       "      <td>1252</td>\n",
       "    </tr>\n",
       "    <tr>\n",
       "      <th>4</th>\n",
       "      <td>status-completed</td>\n",
       "      <td>1189</td>\n",
       "    </tr>\n",
       "    <tr>\n",
       "      <th>5</th>\n",
       "      <td>stackoverflow</td>\n",
       "      <td>679</td>\n",
       "    </tr>\n",
       "    <tr>\n",
       "      <th>6</th>\n",
       "      <td>reputation</td>\n",
       "      <td>518</td>\n",
       "    </tr>\n",
       "    <tr>\n",
       "      <th>7</th>\n",
       "      <td>tags</td>\n",
       "      <td>449</td>\n",
       "    </tr>\n",
       "    <tr>\n",
       "      <th>8</th>\n",
       "      <td>questions</td>\n",
       "      <td>408</td>\n",
       "    </tr>\n",
       "    <tr>\n",
       "      <th>9</th>\n",
       "      <td>status-bydesign</td>\n",
       "      <td>382</td>\n",
       "    </tr>\n",
       "  </tbody>\n",
       "</table>\n",
       "</div>"
      ],
      "text/plain": [
       "                Tag  Cantidad de respuestas aceptadas\n",
       "0        discussion                              2875\n",
       "1   feature-request                              1775\n",
       "2           support                              1723\n",
       "3               bug                              1252\n",
       "4  status-completed                              1189\n",
       "5     stackoverflow                               679\n",
       "6        reputation                               518\n",
       "7              tags                               449\n",
       "8         questions                               408\n",
       "9   status-bydesign                               382"
      ]
     },
     "execution_count": 8,
     "metadata": {},
     "output_type": "execute_result"
    }
   ],
   "source": [
    "df = pd.read_csv(f'{path_output}/top_10_aceptadas.csv', header=0, names=[\"Tag\", \"Cantidad de respuestas aceptadas\"])\n",
    "df"
   ]
  },
  {
   "cell_type": "markdown",
   "metadata": {},
   "source": [
    "### Top 10 de usuarios con mayor porcentaje de respuestas favoritas"
   ]
  },
  {
   "cell_type": "markdown",
   "metadata": {},
   "source": [
    "Por cada post de tipo pregunta, realiza la extracción del id de los usuarios junto con la cantidad de favoritos que tuvieron sus respuestas "
   ]
  },
  {
   "cell_type": "code",
   "execution_count": 9,
   "metadata": {},
   "outputs": [],
   "source": [
    "def user_favs_extractor(row):\n",
    "    \"\"\"\n",
    "    Obtiene los usuarios con la cantidad de favoritos que\n",
    "    tuvo su post\n",
    "    \"\"\"\n",
    "    post_type = row.attrib.get(\"PostTypeId\")\n",
    "    # Si el tipo del post no es pregunta, lo ignoro\n",
    "    if post_type != \"1\":\n",
    "        return\n",
    "    else:\n",
    "        try:\n",
    "            owner_id = row.attrib.get(\"OwnerUserId\")\n",
    "            fav_counts = row.attrib.get(\"FavoriteCount\")\n",
    "        except Exception as e:\n",
    "            print(f\"Error al obtener datos de usuario: {e}\")\n",
    "        else:\n",
    "            if owner_id and fav_counts:\n",
    "                return {owner_id: int(fav_counts)}"
   ]
  },
  {
   "cell_type": "markdown",
   "metadata": {},
   "source": [
    "Aplica a cada conjunto de datos la función de extracción"
   ]
  },
  {
   "cell_type": "code",
   "execution_count": 10,
   "metadata": {},
   "outputs": [],
   "source": [
    "def user_mapper(data):\n",
    "    posts_respuesta = list(map(user_favs_extractor, data))\n",
    "    posts_respuesta = list(filter(None, posts_respuesta))\n",
    "    try:\n",
    "        reducido = reduce(add_reducer, posts_respuesta)\n",
    "    except:\n",
    "        return\n",
    "    return reducido"
   ]
  },
  {
   "cell_type": "markdown",
   "metadata": {},
   "source": [
    "Al conjunto de datos se le aplica MapReduce para extraer la información necesaria, luego se calcula el top 10 de usuarios con más respuestas favoritas y se guarda el resultado en un archivo .csv"
   ]
  },
  {
   "cell_type": "code",
   "execution_count": 11,
   "metadata": {},
   "outputs": [],
   "source": [
    "try:\n",
    "    # Levanto el archivo XML de posts\n",
    "    tree = ET.parse(path_posts)\n",
    "    root = tree.getroot()\n",
    "    # Tomo chunks de 100 datos\n",
    "    data_chunks = chunckify(root, 100)\n",
    "    # Map\n",
    "    mapped = list(map(user_mapper, data_chunks))\n",
    "    mapped = list(filter(None, mapped))\n",
    "    # Reduce\n",
    "    reduced = reduce(add_reducer, mapped)\n",
    "    # Calculo el top 10\n",
    "    top10 = calculate_top_10(reduced)\n",
    "    # Guardo el archivo en un .csv\n",
    "    df = pd.DataFrame(top10.items(), columns=['ID usuario', 'Cant favoritos'])\n",
    "    df.to_csv(f'{path_output}/top_10_usuarios_favoritos.csv', index=False)\n",
    "except Exception as e:\n",
    "    print(e)"
   ]
  },
  {
   "cell_type": "code",
   "execution_count": 12,
   "metadata": {},
   "outputs": [
    {
     "data": {
      "text/html": [
       "<div>\n",
       "<style scoped>\n",
       "    .dataframe tbody tr th:only-of-type {\n",
       "        vertical-align: middle;\n",
       "    }\n",
       "\n",
       "    .dataframe tbody tr th {\n",
       "        vertical-align: top;\n",
       "    }\n",
       "\n",
       "    .dataframe thead th {\n",
       "        text-align: right;\n",
       "    }\n",
       "</style>\n",
       "<table border=\"1\" class=\"dataframe\">\n",
       "  <thead>\n",
       "    <tr style=\"text-align: right;\">\n",
       "      <th></th>\n",
       "      <th>ID de usuario</th>\n",
       "      <th>Cantidad de favoritos</th>\n",
       "    </tr>\n",
       "  </thead>\n",
       "  <tbody>\n",
       "    <tr>\n",
       "      <th>0</th>\n",
       "      <td>1</td>\n",
       "      <td>659</td>\n",
       "    </tr>\n",
       "    <tr>\n",
       "      <th>1</th>\n",
       "      <td>115866</td>\n",
       "      <td>199</td>\n",
       "    </tr>\n",
       "    <tr>\n",
       "      <th>2</th>\n",
       "      <td>130154</td>\n",
       "      <td>176</td>\n",
       "    </tr>\n",
       "    <tr>\n",
       "      <th>3</th>\n",
       "      <td>140171</td>\n",
       "      <td>176</td>\n",
       "    </tr>\n",
       "    <tr>\n",
       "      <th>4</th>\n",
       "      <td>17174</td>\n",
       "      <td>136</td>\n",
       "    </tr>\n",
       "    <tr>\n",
       "      <th>5</th>\n",
       "      <td>2915</td>\n",
       "      <td>134</td>\n",
       "    </tr>\n",
       "    <tr>\n",
       "      <th>6</th>\n",
       "      <td>22164</td>\n",
       "      <td>117</td>\n",
       "    </tr>\n",
       "    <tr>\n",
       "      <th>7</th>\n",
       "      <td>2598</td>\n",
       "      <td>114</td>\n",
       "    </tr>\n",
       "    <tr>\n",
       "      <th>8</th>\n",
       "      <td>22656</td>\n",
       "      <td>105</td>\n",
       "    </tr>\n",
       "    <tr>\n",
       "      <th>9</th>\n",
       "      <td>3043</td>\n",
       "      <td>103</td>\n",
       "    </tr>\n",
       "  </tbody>\n",
       "</table>\n",
       "</div>"
      ],
      "text/plain": [
       "   ID de usuario  Cantidad de favoritos\n",
       "0              1                    659\n",
       "1         115866                    199\n",
       "2         130154                    176\n",
       "3         140171                    176\n",
       "4          17174                    136\n",
       "5           2915                    134\n",
       "6          22164                    117\n",
       "7           2598                    114\n",
       "8          22656                    105\n",
       "9           3043                    103"
      ]
     },
     "execution_count": 12,
     "metadata": {},
     "output_type": "execute_result"
    }
   ],
   "source": [
    "df = pd.read_csv(f'{path_output}/top_10_usuarios_favoritos.csv', header=0, names=[\"ID de usuario\", \"Cantidad de favoritos\"])\n",
    "df"
   ]
  },
  {
   "cell_type": "markdown",
   "metadata": {},
   "source": [
    "### Relación entre cantidad de palabras en un post y su cantidad de respuestas"
   ]
  },
  {
   "cell_type": "markdown",
   "metadata": {},
   "source": [
    "Por cada post de tipo pregunta extrae la cantidad de palabras de la publicación y la cantidad de respuestas que obtuvo"
   ]
  },
  {
   "cell_type": "code",
   "execution_count": 13,
   "metadata": {},
   "outputs": [],
   "source": [
    "def words_answers_extractor(row):\n",
    "    \"\"\"\n",
    "    Obtengo la relación entre la cantidad de palabras\n",
    "    de cada post y la cantidad de respuestas que obtuvo\n",
    "    \"\"\"\n",
    "    post_type = row.attrib.get(\"PostTypeId\")\n",
    "    # Si el tipo del post no es pregunta, lo ignoro\n",
    "    if post_type != \"1\":\n",
    "        return\n",
    "    else:\n",
    "        try:\n",
    "            answer_count = row.attrib.get(\"AnswerCount\")\n",
    "            body = row.attrib.get(\"Body\")\n",
    "        except Exception as e:\n",
    "            print(f\"Error al obtener datos: {e}\")\n",
    "        else:\n",
    "            if not body:\n",
    "                return\n",
    "            else:\n",
    "                body = re.findall(\n",
    "                    r\"(?<!\\S)[A-Za-z]+(?!\\S)|(?<!\\S)[A-Za-z]+(?=:(?!\\S))\", body\n",
    "                )\n",
    "                words_count = len(body)\n",
    "            if answer_count and body:\n",
    "                answer_count = int(answer_count)\n",
    "                # Si tuvo respuestas\n",
    "                if answer_count != 0:\n",
    "                    # Devuelvo la cantidad de palabras y la cantidad de respuestas\n",
    "                    return {words_count: answer_count}"
   ]
  },
  {
   "cell_type": "markdown",
   "metadata": {},
   "source": [
    "Aplica a cada conjunto de datos la función de extracción"
   ]
  },
  {
   "cell_type": "code",
   "execution_count": 14,
   "metadata": {},
   "outputs": [],
   "source": [
    "def relation_mapper(data):\n",
    "    relacion = list(map(words_answers_extractor, data))\n",
    "    relacion = list(filter(None, relacion))\n",
    "    try:\n",
    "        reduced = reduce(relation_reducer, relacion)\n",
    "    except:\n",
    "        return\n",
    "    return reduced"
   ]
  },
  {
   "cell_type": "markdown",
   "metadata": {},
   "source": [
    "Para todos los post que tengan la misma cantidad de palabras, promedio la cantidad de respuestas entre ellos"
   ]
  },
  {
   "cell_type": "code",
   "execution_count": 15,
   "metadata": {},
   "outputs": [],
   "source": [
    "def relation_reducer(data1, data2):\n",
    "    \"\"\"\n",
    "    Promedio las relaciones para los que tengan la misma cantidad de palabras\n",
    "    \"\"\"\n",
    "    for key, value in data2.items():\n",
    "        try:\n",
    "            if key in data1.keys():\n",
    "                data1.update({key: int(math.ceil((data1[key]+value)/2))})\n",
    "            else:\n",
    "                data1.update({key: value})\n",
    "        except:\n",
    "            if not isinstance(data1[key], int) or not isinstance(value, int):\n",
    "                print(\n",
    "                    f'Los valores en los diccionarios deben ser del tipo \"int\" {TypeError}'\n",
    "                )\n",
    "    return data1"
   ]
  },
  {
   "cell_type": "markdown",
   "metadata": {},
   "source": [
    "Al conjunto de datos se le aplica MapReduce para obtener por cantidad de palabras de una pregunta el promedio de la cantidad de respuestas y se guarda el resultado en un archivo .csv"
   ]
  },
  {
   "cell_type": "code",
   "execution_count": 16,
   "metadata": {},
   "outputs": [],
   "source": [
    "try:\n",
    "    # Levanto el archivo XML de posts\n",
    "    tree = ET.parse(path_posts)\n",
    "    root = tree.getroot()\n",
    "    # Tomo chunks de 100 datos\n",
    "    data_chunks = chunckify(root, 100)\n",
    "    # Map\n",
    "    relacion = list(map(relation_mapper, data_chunks))\n",
    "    relacion = list(filter(None, relacion))\n",
    "    # Reduce\n",
    "    reduced = reduce(relation_reducer, relacion)\n",
    "    # Guarda el resultado en un .csv\n",
    "    df = pd.DataFrame(reduced.items(), columns=['Cantidad de palabras', 'Cantidad de respuestas'])\n",
    "    df.to_csv(f'{path_output}/relacion_cant_palabras_respuestas.csv', index=False)\n",
    "except Exception as e:\n",
    "    print(e)"
   ]
  },
  {
   "cell_type": "markdown",
   "metadata": {},
   "source": [
    "Muestro y analizo los resultados obtenidos"
   ]
  },
  {
   "cell_type": "code",
   "execution_count": 17,
   "metadata": {},
   "outputs": [
    {
     "data": {
      "text/html": [
       "<div>\n",
       "<style scoped>\n",
       "    .dataframe tbody tr th:only-of-type {\n",
       "        vertical-align: middle;\n",
       "    }\n",
       "\n",
       "    .dataframe tbody tr th {\n",
       "        vertical-align: top;\n",
       "    }\n",
       "\n",
       "    .dataframe thead th {\n",
       "        text-align: right;\n",
       "    }\n",
       "</style>\n",
       "<table border=\"1\" class=\"dataframe\">\n",
       "  <thead>\n",
       "    <tr style=\"text-align: right;\">\n",
       "      <th></th>\n",
       "      <th>Cantidad de palabras</th>\n",
       "      <th>Cantidad de respuestas</th>\n",
       "    </tr>\n",
       "  </thead>\n",
       "  <tbody>\n",
       "    <tr>\n",
       "      <th>0</th>\n",
       "      <td>62</td>\n",
       "      <td>3</td>\n",
       "    </tr>\n",
       "    <tr>\n",
       "      <th>1</th>\n",
       "      <td>49</td>\n",
       "      <td>3</td>\n",
       "    </tr>\n",
       "    <tr>\n",
       "      <th>2</th>\n",
       "      <td>145</td>\n",
       "      <td>2</td>\n",
       "    </tr>\n",
       "    <tr>\n",
       "      <th>3</th>\n",
       "      <td>36</td>\n",
       "      <td>2</td>\n",
       "    </tr>\n",
       "    <tr>\n",
       "      <th>4</th>\n",
       "      <td>147</td>\n",
       "      <td>5</td>\n",
       "    </tr>\n",
       "    <tr>\n",
       "      <th>...</th>\n",
       "      <td>...</td>\n",
       "      <td>...</td>\n",
       "    </tr>\n",
       "    <tr>\n",
       "      <th>477</th>\n",
       "      <td>711</td>\n",
       "      <td>4</td>\n",
       "    </tr>\n",
       "    <tr>\n",
       "      <th>478</th>\n",
       "      <td>723</td>\n",
       "      <td>4</td>\n",
       "    </tr>\n",
       "    <tr>\n",
       "      <th>479</th>\n",
       "      <td>529</td>\n",
       "      <td>7</td>\n",
       "    </tr>\n",
       "    <tr>\n",
       "      <th>480</th>\n",
       "      <td>465</td>\n",
       "      <td>7</td>\n",
       "    </tr>\n",
       "    <tr>\n",
       "      <th>481</th>\n",
       "      <td>646</td>\n",
       "      <td>3</td>\n",
       "    </tr>\n",
       "  </tbody>\n",
       "</table>\n",
       "<p>482 rows × 2 columns</p>\n",
       "</div>"
      ],
      "text/plain": [
       "     Cantidad de palabras  Cantidad de respuestas\n",
       "0                      62                       3\n",
       "1                      49                       3\n",
       "2                     145                       2\n",
       "3                      36                       2\n",
       "4                     147                       5\n",
       "..                    ...                     ...\n",
       "477                   711                       4\n",
       "478                   723                       4\n",
       "479                   529                       7\n",
       "480                   465                       7\n",
       "481                   646                       3\n",
       "\n",
       "[482 rows x 2 columns]"
      ]
     },
     "execution_count": 17,
     "metadata": {},
     "output_type": "execute_result"
    }
   ],
   "source": [
    "df = pd.read_csv(f'{path_output}/relacion_cant_palabras_respuestas.csv')\n",
    "df"
   ]
  },
  {
   "cell_type": "code",
   "execution_count": 18,
   "metadata": {},
   "outputs": [
    {
     "data": {
      "text/plain": [
       "<seaborn.axisgrid.FacetGrid at 0x7fcd536f4c10>"
      ]
     },
     "execution_count": 18,
     "metadata": {},
     "output_type": "execute_result"
    },
    {
     "data": {
      "image/png": "[encoded data removed]",
      "text/plain": [
       "<Figure size 360x360 with 1 Axes>"
      ]
     },
     "metadata": {
      "needs_background": "light"
     },
     "output_type": "display_data"
    }
   ],
   "source": [
    "sns.catplot(x=\"Cantidad de respuestas\", y=\"Cantidad de palabras\", kind=\"box\", data=df)"
   ]
  },
  {
   "cell_type": "code",
   "execution_count": 19,
   "metadata": {},
   "outputs": [
    {
     "data": {
      "image/png": "[encoded data removed]",
      "text/plain": [
       "<Figure size 360x360 with 1 Axes>"
      ]
     },
     "metadata": {
      "needs_background": "light"
     },
     "output_type": "display_data"
    }
   ],
   "source": [
    "sns.lmplot(x=\"Cantidad de palabras\", y=\"Cantidad de respuestas\", data=df);"
   ]
  },
  {
   "cell_type": "markdown",
   "metadata": {},
   "source": [
    "Analizando la relación entre la cantidad de palabras y cantidad de respuestas, podemos observar que realizar preguntas de más de 600 palabras no lograría que se incremente la cantidad de respuestas. En el rango entre 200 y 600 palabras es donde se observa la mayor cantidad de respuestas, esto podría suceder debido a que las preguntas más extensas podrían tener requerimientos más específicos o podrían ser más engorrosas de leer, generando que obtengan menos respuestas.  "
   ]
  }
 ],
 "metadata": {
  "interpreter": {
   "hash": "916dbcbb3f70747c44a77c7bcd40155683ae19c65e1c03b4aa3499c5328201f1"
  },
  "kernelspec": {
   "display_name": "Python 3.8.10 64-bit",
   "language": "python",
   "name": "python3"
  },
  "language_info": {
   "codemirror_mode": {
    "name": "ipython",
    "version": 3
   },
   "file_extension": ".py",
   "mimetype": "text/x-python",
   "name": "python",
   "nbconvert_exporter": "python",
   "pygments_lexer": "ipython3",
   "version": "3.8.10"
  },
  "orig_nbformat": 4
 },
 "nbformat": 4,
 "nbformat_minor": 2
}

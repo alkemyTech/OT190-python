{
 "cells": [
  {
   "cell_type": "markdown",
   "id": "6054497e",
   "metadata": {},
   "source": [
    "# Analisis de Datos - StackOverflow\n",
    "\n",
    "El objetivo de este notebook es compartir el analisis del datasets StackOverflow, utilizando MapReduce para lograr los siguientes resultados:\n",
    "\n",
    "1. Top 10 fechas con mayor cantidad de post creados\n",
    "2. Relación entre cantidad de respuestas y sus visitas\n",
    "3. Del ranking de los primeros 0-100 por score, tomar el tiempo de respuesta promedio e informar un único valor."
   ]
  },
  {
   "cell_type": "markdown",
   "id": "fb901ffe",
   "metadata": {},
   "source": [
    "### Importación de las librerías necesarias"
   ]
  },
  {
   "cell_type": "code",
   "execution_count": 15,
   "id": "0acdff72",
   "metadata": {},
   "outputs": [],
   "source": [
    "import xml.etree.ElementTree as ET\n",
    "import csv\n",
    "from datetime import datetime, timedelta\n",
    "from typing import Counter\n",
    "from functools import reduce\n",
    "\n",
    "from lib.chunckify import chunckify"
   ]
  },
  {
   "cell_type": "markdown",
   "id": "92a46e1d",
   "metadata": {},
   "source": [
    "### Origen de Datos"
   ]
  },
  {
   "cell_type": "code",
   "execution_count": 16,
   "id": "c927a2e3",
   "metadata": {},
   "outputs": [],
   "source": [
    "tree = ET.parse(r\"dataset/Stack Overflow 11-2010/112010 Meta Stack Overflow/posts.xml\")\n",
    "root = tree.getroot()"
   ]
  },
  {
   "cell_type": "markdown",
   "id": "c474a6df",
   "metadata": {},
   "source": [
    "## 1. Top 10 fechas con mayor cantidad de post creados"
   ]
  },
  {
   "cell_type": "markdown",
   "id": "6f7dd810",
   "metadata": {},
   "source": [
    "Se toma el dato fecha del atributo ***CreationDate*** donde el formato es \"*2008-09-06T08:07:10.730*\". Para poder agrupar la cantidad de post, se ignora la parte correspondiente a la hora. Además se considera solo la fecha de creación del post original (tipo question). "
   ]
  },
  {
   "cell_type": "code",
   "execution_count": 17,
   "id": "65fe5c3e",
   "metadata": {},
   "outputs": [],
   "source": [
    "def get_creationdate(data):\n",
    "    ''' Devuelve la fecha en formato yyyy-mm-dd\n",
    "        param: row object\n",
    "        return: str|None\n",
    "    '''\n",
    "    if data.attrib[\"PostTypeId\"] == '1':\n",
    "        return data.attrib[\"CreationDate\"].split(\"T\")[0]"
   ]
  },
  {
   "cell_type": "code",
   "execution_count": 18,
   "id": "cf73cbb8",
   "metadata": {},
   "outputs": [],
   "source": [
    "def mapped_count_post_for_date(data):\n",
    "    ''' Retorna un contador con la cantidad de ocurrencias de cada fecha\n",
    "        param: list<row object>\n",
    "        return: Counter\n",
    "    '''\n",
    "    creationdate_all = list(map(get_creationdate, data))\n",
    "    creationdate = list(filter(None, creationdate_all))\n",
    "    return Counter(creationdate)"
   ]
  },
  {
   "cell_type": "code",
   "execution_count": 19,
   "id": "8151bca6",
   "metadata": {},
   "outputs": [],
   "source": [
    "def update_counters(data1, data2):\n",
    "    ''' Retorna un contador con sus elementos de los parametros actualizados \n",
    "        param: Counter, Counter\n",
    "        return: Counter\n",
    "    '''\n",
    "    data1.update(data2)\n",
    "    return data1"
   ]
  },
  {
   "cell_type": "code",
   "execution_count": 22,
   "id": "e5461b00",
   "metadata": {},
   "outputs": [
    {
     "name": "stdout",
     "output_type": "stream",
     "text": [
      "Fechas con mayor cantidad de posteos\n",
      "('2009-06-30', 93)\n",
      "('2009-07-16', 86)\n",
      "('2009-06-28', 84)\n",
      "('2009-06-29', 82)\n",
      "('2009-07-15', 80)\n",
      "('2009-07-09', 76)\n",
      "('2009-07-06', 74)\n",
      "('2009-07-02', 71)\n",
      "('2009-07-20', 71)\n",
      "('2009-07-23', 71)\n"
     ]
    }
   ],
   "source": [
    "data_chunks = chunckify(root, 50)\n",
    "\n",
    "data_mapped = list(map(mapped_count_post_for_date, data_chunks))\n",
    "data_filter = list(filter(None, data_mapped))\n",
    "data_reduced = reduce(update_counters, data_filter)\n",
    "\n",
    "top_10_date = data_reduced.most_common(10)\n",
    "\n",
    "with open(\"output/top_10_count_post_by_date.csv\", 'w', newline='') as csvfile:\n",
    "    writer = csv.writer(csvfile)\n",
    "    writer.writerow(['Date', 'Count'])\n",
    "    writer.writerows(top_10_date)\n",
    "\n",
    "print(\"Fechas con mayor cantidad de posteos\")\n",
    "for row in top_10_date:\n",
    "    print(row)"
   ]
  },
  {
   "cell_type": "markdown",
   "id": "9c36c8c8",
   "metadata": {},
   "source": [
    "## 2. Relación entre cantidad de respuestas y sus visitas\n",
    "\n",
    "Se toma el dato de los atributos ***ViewCount*** y ***AnswerCount***. Estos dos datos son numéricos pero no exactamente el mismo rango de valores. Para conocer la relación entre estos dos datos, se podría calcular de Coeficiente de Correlación de Pearson aplicando la siguiente formula\n",
    "$$r=\\frac{\\sum (x-m_x)(y-m_y)}{\\sum (x-m_x)^2 \\sum (x-m_y)^2}$$\n",
    "donde $m_x$ es la media de los valores de $x$ y $m_y$ es la media de los valores de $y$.\n",
    "Para el cálculo de $r$, aplicando MapReduce, se necesitó recorrer dos veces el conjunto de dato. Primero se calculan las medias de los dos valores cantidad de vistas y cantidad de respuestas; y por último para el calculo de las sumatorias."
   ]
  },
  {
   "cell_type": "markdown",
   "id": "b7957a7a",
   "metadata": {},
   "source": [
    "**Aclaración:** para que el valor que se obtiene de $r$ sea válido, se necesita checkear que los valores de cantidad de vistas y cantidad de respuestas tengan una distribución normal. Además calcular el valor de confianza (p-value) de ese resultado."
   ]
  },
  {
   "cell_type": "markdown",
   "id": "9ddb457b",
   "metadata": {},
   "source": [
    "#### Parte uno. Cálculo de media de cantidad de vistas y cantidad de respuestas"
   ]
  },
  {
   "cell_type": "code",
   "execution_count": 23,
   "id": "38891b76",
   "metadata": {},
   "outputs": [],
   "source": [
    "def get_answer_and_viewcount(data):\n",
    "    ''' Retorna el dato de cantidad de vista y de cantidad de respuestas\n",
    "        param: row object\n",
    "        return: None|<str, str>\n",
    "    '''\n",
    "    try:\n",
    "        view = data.attrib[\"ViewCount\"]\n",
    "        answer = data.attrib[\"AnswerCount\"]\n",
    "\n",
    "        return view, answer\n",
    "    except:\n",
    "        return None"
   ]
  },
  {
   "cell_type": "code",
   "execution_count": 24,
   "id": "62971da3",
   "metadata": {},
   "outputs": [],
   "source": [
    "def mapped_list_data(data):\n",
    "    ''' Retorna una lista de tuplas (cantidad de vistas, cantidad de respuestas)\n",
    "        param: list(<row object>)\n",
    "        return: list((str,str))\n",
    "    '''\n",
    "    list_data = list(map(get_answer_and_viewcount, data))\n",
    "    filter_data = list(filter(None, list_data))\n",
    "    return filter_data"
   ]
  },
  {
   "cell_type": "code",
   "execution_count": 25,
   "id": "c638e0c5",
   "metadata": {},
   "outputs": [],
   "source": [
    "def mapped_sum_view_answer(data):\n",
    "    ''' Retorna la suma de la cantidad de vistas, la cantidad de respuestas y la cantidad de datos sumados\n",
    "        param: list((str,str))\n",
    "        return list(int, int, int)\n",
    "    '''\n",
    "    view = 0\n",
    "    answer = 0\n",
    "    count_data = 0\n",
    "\n",
    "    for item in data:\n",
    "        view += int(item[0])\n",
    "        answer += int(item[1])\n",
    "        count_data += 1\n",
    "    \n",
    "    return [view, answer, count_data]"
   ]
  },
  {
   "cell_type": "code",
   "execution_count": 26,
   "id": "223070ec",
   "metadata": {},
   "outputs": [],
   "source": [
    "def sum_reduce(data1, data2):\n",
    "    ''' Retorna la suma de cada elemento de las listas como parametro\n",
    "        param: list(int, int, int), list(int, int, int)\n",
    "        return: list(int, int, int)\n",
    "    '''\n",
    "    return [data1[0] + data2[0], data1[1] + data2[1], data1[2] + data2[2]]"
   ]
  },
  {
   "cell_type": "code",
   "execution_count": 28,
   "id": "c3a0d5b8",
   "metadata": {},
   "outputs": [
    {
     "name": "stdout",
     "output_type": "stream",
     "text": [
      "Media de Cantidad de Vistas:  169.77599311630576\n",
      "Media de Cantidad de Respuesta:  2.9624265022228595\n"
     ]
    }
   ],
   "source": [
    "data_chunks = chunckify(root, 50)\n",
    "\n",
    "data_mapped = list(map(mapped_list_data, data_chunks))\n",
    "data_reduce = list(map(mapped_sum_view_answer, data_mapped))\n",
    "sum_data = reduce(sum_reduce, data_reduce)\n",
    "\n",
    "view_mean = sum_data[0] / sum_data[2]\n",
    "answer_mean = sum_data[1] / sum_data[2]\n",
    "\n",
    "print(\"Media de Cantidad de Vistas: \", view_mean)\n",
    "print(\"Media de Cantidad de Respuesta: \", answer_mean)"
   ]
  },
  {
   "cell_type": "code",
   "execution_count": 29,
   "id": "6d89355e",
   "metadata": {},
   "outputs": [],
   "source": [
    "# Se guardan los datos seleccionados, para futuros analisis\n",
    "with open(\"output/relation_between_view_and_answer_data.csv\", 'w', newline='') as csvfile:\n",
    "    writer = csv.writer(csvfile)\n",
    "    writer.writerow(['ViewCount', \"AnswerCount\"])\n",
    "    for chunk in data_mapped:\n",
    "        for row in chunk:\n",
    "            writer.writerow(row)"
   ]
  },
  {
   "cell_type": "markdown",
   "id": "ed6675dd",
   "metadata": {},
   "source": [
    "#### Parte dos. Cálculo de las sumatorias\n",
    "En este recorrido de los datos se va a calcular las expresiones \n",
    "- $\\sum (x-m_x)(y-m_y)$\n",
    "- $\\sum (x-m_x)^2$\n",
    "- $\\sum (y-m_y)^2$"
   ]
  },
  {
   "cell_type": "code",
   "execution_count": 46,
   "id": "8a9d00f0",
   "metadata": {},
   "outputs": [],
   "source": [
    "def mapped_sum_expressions(data, means):\n",
    "    ''' Retorna una lista con las tres sumatorias\n",
    "        param: list((str, str)), list((int, int))\n",
    "        return: list(int, int, int)\n",
    "    '''\n",
    "    sum1 = 0\n",
    "    sum2 = 0\n",
    "    sum3 = 0\n",
    "    \n",
    "    for item in data:\n",
    "        diff_view = int(item[0]) - means[0]\n",
    "        diff_answer = int(item[1]) - means[1]\n",
    "\n",
    "        sum1 += diff_view * diff_answer\n",
    "        sum2 += diff_view * diff_view\n",
    "        sum3 += diff_answer * diff_answer\n",
    "    \n",
    "    return [sum1, sum2, sum3]"
   ]
  },
  {
   "cell_type": "code",
   "execution_count": 47,
   "id": "bd4c8f32",
   "metadata": {},
   "outputs": [
    {
     "name": "stdout",
     "output_type": "stream",
     "text": [
      "Correlación entre cantidad de vistas y cantidad de respuestas:  0.4875917971953677\n"
     ]
    }
   ],
   "source": [
    "data_chunks = chunckify(root, 50)\n",
    "\n",
    "mean_list = [(view_mean, answer_mean) for i in range(len(data_mapped))]\n",
    "\n",
    "data_process = list(map(mapped_sum_expressions, data_mapped, mean_list))\n",
    "sums = reduce(sum_reduce, data_process)\n",
    "\n",
    "num = sums[0]\n",
    "den = (sums[1] * sums[2]) ** 0.5\n",
    "\n",
    "r = num / den\n",
    "\n",
    "with open(\"output/relation_between_view_and_answer.csv\", 'w', newline='') as csvfile:\n",
    "    writer = csv.writer(csvfile)\n",
    "    writer.writerow(['Correlation'])\n",
    "    writer.writerow([r])\n",
    "\n",
    "print(\"Correlación entre cantidad de vistas y cantidad de respuestas: \", r)"
   ]
  },
  {
   "cell_type": "markdown",
   "id": "b45c3a21",
   "metadata": {},
   "source": [
    "#### Parte Adicional. Grafico de Relación entre Cantidad de Vistas y Cantidad de Respuestas\n",
    "\n",
    "Se toman los datos de cada (cantidad de vista, cantidad de respuesta) para que se pueda visualizar gráficamente si el dato obtenido se relacionan con su gráfica "
   ]
  },
  {
   "cell_type": "code",
   "execution_count": 30,
   "id": "e8c9286c",
   "metadata": {},
   "outputs": [],
   "source": [
    "import pandas as pd\n",
    "import seaborn as sns"
   ]
  },
  {
   "cell_type": "code",
   "execution_count": 31,
   "id": "4f7e5b86",
   "metadata": {},
   "outputs": [
    {
     "name": "stdout",
     "output_type": "stream",
     "text": [
      "   ViewCount  AnswerCount\n",
      "0       1836           13\n",
      "1        249            4\n",
      "2        154            4\n",
      "3        351            9\n",
      "4         85            2\n"
     ]
    }
   ],
   "source": [
    "dataset_view_answer = pd.read_csv(\"output/relation_between_view_and_answer_data.csv\")\n",
    "print(dataset_view_answer.head())"
   ]
  },
  {
   "cell_type": "code",
   "execution_count": 32,
   "id": "ed35ad13",
   "metadata": {},
   "outputs": [
    {
     "data": {
      "image/png": "[encoded data removed]",
      "text/plain": [
       "<Figure size 432x432 with 3 Axes>"
      ]
     },
     "metadata": {
      "needs_background": "light"
     },
     "output_type": "display_data"
    }
   ],
   "source": [
    "g = sns.jointplot(x=\"ViewCount\", y=\"AnswerCount\", data=dataset_view_answer, kind=\"reg\")"
   ]
  },
  {
   "cell_type": "code",
   "execution_count": 54,
   "id": "4b59777d",
   "metadata": {},
   "outputs": [
    {
     "data": {
      "text/plain": [
       "<AxesSubplot:xlabel='ViewCount', ylabel='Count'>"
      ]
     },
     "execution_count": 54,
     "metadata": {},
     "output_type": "execute_result"
    },
    {
     "data": {
      "image/png": "[encoded data removed]",
      "text/plain": [
       "<Figure size 432x288 with 1 Axes>"
      ]
     },
     "metadata": {
      "needs_background": "light"
     },
     "output_type": "display_data"
    }
   ],
   "source": [
    "sns.histplot(data=dataset_view_answer[dataset_view_answer[\"ViewCount\"] < 200], x=\"ViewCount\", bins=30)"
   ]
  },
  {
   "cell_type": "code",
   "execution_count": 51,
   "id": "293c75ed",
   "metadata": {},
   "outputs": [
    {
     "data": {
      "text/plain": [
       "<AxesSubplot:xlabel='AnswerCount', ylabel='Count'>"
      ]
     },
     "execution_count": 51,
     "metadata": {},
     "output_type": "execute_result"
    },
    {
     "data": {
      "image/png": "[encoded data removed]",
      "text/plain": [
       "<Figure size 432x288 with 1 Axes>"
      ]
     },
     "metadata": {
      "needs_background": "light"
     },
     "output_type": "display_data"
    }
   ],
   "source": [
    "sns.histplot(data=dataset_view_answer[dataset_view_answer[\"AnswerCount\"] < 10], x=\"AnswerCount\", bins=30)"
   ]
  },
  {
   "cell_type": "code",
   "execution_count": 43,
   "id": "92bab41e",
   "metadata": {},
   "outputs": [],
   "source": [
    "from scipy.stats import pearsonr"
   ]
  },
  {
   "cell_type": "code",
   "execution_count": 44,
   "id": "8be8fb6e",
   "metadata": {},
   "outputs": [],
   "source": [
    "without_tail = dataset_view_answer[dataset_view_answer]\n",
    "x = dataset_view_answer[\"ViewCount\"]\n",
    "y = dataset_view_answer[\"AnswerCount\"]"
   ]
  },
  {
   "cell_type": "code",
   "execution_count": 63,
   "id": "044eac9f",
   "metadata": {},
   "outputs": [
    {
     "name": "stdout",
     "output_type": "stream",
     "text": [
      "Coeficiente de Correlación Pearson:  (0.4875917971953668, 0.0)\n",
      "Coeficiente de Correlación Pearson para los primeros 1000 datos:  (0.4443087551777952, 1.244911632305328e-49)\n"
     ]
    }
   ],
   "source": [
    "print(\"Coeficiente de Correlación Pearson: \", pearsonr(x, y))\n",
    "print(\"Coeficiente de Correlación Pearson para los primeros 1000 datos: \", pearsonr(x[:1000], y[:1000]))\n"
   ]
  },
  {
   "cell_type": "markdown",
   "id": "61a44544",
   "metadata": {},
   "source": [
    "Como conclusión de esta parte, aplicando la técnica de MapReduce se pudo realizar un cálculo complejo sobre gran volumen de datos sin estresar los recursos computacionales. Adicionalmente, se mostró que el resultado  $r$ arrojado no sería del todo válido por haber sido aplicado sobre datos que no tienen una distribución normal (ver en los gráficos). "
   ]
  },
  {
   "cell_type": "markdown",
   "id": "1472b81d",
   "metadata": {},
   "source": [
    "## 3. Del ranking de los primeros 0-100 por score, tomar el tiempo de respuesta promedio e informar un único valo\n",
    "\n",
    "En este caso se utilizan los datos ***CreationDate*** y ***Score***. Para calcular el tiempo de respuesta se realizó la diferencia entre la fecha de creación de la respuesta y la fecha de creación de la pregunta. Estos datos no estan en una misma fila así que se necesitó agrupar los datos por el ***Id*** o ***ParentId*** segun el caso. Durante el proceso se fue descartando aquellas respuestas que no estaban dentro de los 100 mejores por puntaje."
   ]
  },
  {
   "cell_type": "code",
   "execution_count": 64,
   "id": "086b6ff3",
   "metadata": {},
   "outputs": [],
   "source": [
    "def get_columns_dates_score(data):\n",
    "    ''' Returna un dict con el Id delo post y una lista con los datos de fechas de creación y puntaje\n",
    "        param: row object\n",
    "        return: dict(str: [str, None, None]|[None, str, str])\n",
    "    '''\n",
    "    if data.attrib[\"PostTypeId\"] == '2':\n",
    "        value = {\"CreationPost\": None,\n",
    "                \"CreationDate\": data.attrib[\"CreationDate\"],\n",
    "                \"Score\": data.attrib[\"Score\"]}\n",
    "        \n",
    "        return dict({data.attrib[\"ParentId\"]: [value]})\n",
    "    else:\n",
    "        value = {\"CreationPost\": data.attrib[\"CreationDate\"],\n",
    "                \"CreationDate\": None,\n",
    "                \"Score\": None}\n",
    "        return dict({data.attrib[\"Id\"]: [value]})"
   ]
  },
  {
   "cell_type": "code",
   "execution_count": 65,
   "id": "35d71472",
   "metadata": {},
   "outputs": [],
   "source": [
    "def groupby_id(data1, data2):\n",
    "    \"\"\" Retorna un dict con los datos actualizados de los dos parametros. Actualiza los datos None dentro de la lista de valores\n",
    "        param: dict(str:[str, str, str]), dict(str:[str, str, str])\n",
    "        return: dict(str:[str, str, str])\n",
    "    \"\"\"\n",
    "    for key, value in data2.items():\n",
    "        if key in data1.keys():\n",
    "            for i in value:\n",
    "                i[\"CreationPost\"] = data1[key][0][\"CreationPost\"]\n",
    "\n",
    "            data1[key] = data1[key] + value\n",
    "        else:\n",
    "            data1.update({key: value})\n",
    "\n",
    "    for value in data1.values():\n",
    "        if len(value) > 1 and value[0][\"CreationDate\"] == None:\n",
    "            value.remove(value[0])\n",
    "\n",
    "    return data1"
   ]
  },
  {
   "cell_type": "code",
   "execution_count": 66,
   "id": "dd27111a",
   "metadata": {},
   "outputs": [],
   "source": [
    "def mapped_groupby_id(data):\n",
    "    ''' Retorna un dict con los datos agrupados por Id '''\n",
    "    columns = list(map(get_columns_dates_score, data))\n",
    "    data_groupped = reduce(groupby_id, columns)\n",
    "    return data_groupped"
   ]
  },
  {
   "cell_type": "code",
   "execution_count": 67,
   "id": "32287dc9",
   "metadata": {},
   "outputs": [],
   "source": [
    "def greatest_100(data1, data2):\n",
    "    ''' Retorna un dict con los datos agrupados por id, \n",
    "        pero descartando los valores que no van a estar dentro de los 100 por puntaje\n",
    "    '''\n",
    "    data1_groupby = groupby_id(data1, data2)\n",
    "    score_100 = []\n",
    "\n",
    "    for value in data1_groupby.values():\n",
    "        for i in value:\n",
    "            if i[\"Score\"] == None:\n",
    "                continue\n",
    "            score_100.append(int(i[\"Score\"]))\n",
    "\n",
    "    score_100 = sorted(score_100, reverse=True)\n",
    "\n",
    "    if len(score_100) > 100:\n",
    "        for value in data1_groupby.values():\n",
    "            if len(value) == 1:\n",
    "                continue\n",
    "\n",
    "            delete_rows = []\n",
    "            for i in value:\n",
    "                if i[\"Score\"] == None:\n",
    "                    continue\n",
    "\n",
    "                if int(i[\"Score\"]) < score_100[99]:\n",
    "                    delete_rows.append(i)\n",
    "            \n",
    "            if len(value) == len(delete_rows):\n",
    "                delete_rows = delete_rows[1:]\n",
    "\n",
    "            for d in delete_rows:\n",
    "                value.remove(d)\n",
    "\n",
    "    return data1_groupby"
   ]
  },
  {
   "cell_type": "code",
   "execution_count": 68,
   "id": "52d79642",
   "metadata": {},
   "outputs": [],
   "source": [
    "def prom_timeresp_most100(data):\n",
    "    ''' Retorna el promedio de tiempo de respuesta de los 100 por puntaje '''\n",
    "    score_100 = []\n",
    "\n",
    "    for value in data.values():\n",
    "        for i in value:\n",
    "            if i[\"Score\"] == None:\n",
    "                continue\n",
    "            score_100.append(int(i[\"Score\"]))\n",
    "\n",
    "    score_100 = sorted(score_100, reverse=True)\n",
    "\n",
    "    list_data = []\n",
    "    for value in data.values():\n",
    "        for i in value:\n",
    "            if i[\"Score\"] != None and int(i[\"Score\"]) >= score_100[99]:\n",
    "                post = i[\"CreationPost\"] \n",
    "                resp = i[\"CreationDate\"]\n",
    "                if post != None and resp != None:\n",
    "                    post_date = datetime.strptime(post[:-4], \"%Y-%m-%dT%H:%M:%S\")\n",
    "                    resp_date = datetime.strptime(resp[:-4], \"%Y-%m-%dT%H:%M:%S\")\n",
    "                    list_data.append(resp_date - post_date)\n",
    "    \n",
    "    sum_days = timedelta(days=0)\n",
    "    len_data = len(list_data)\n",
    "    for element in list_data:\n",
    "        sum_days += element\n",
    "    \n",
    "    if len_data > 0:\n",
    "        return sum_days.days / len_data"
   ]
  },
  {
   "cell_type": "code",
   "execution_count": 70,
   "id": "252cb204",
   "metadata": {},
   "outputs": [
    {
     "name": "stdout",
     "output_type": "stream",
     "text": [
      "Promedio de tiempo de respuesta en días para los 100 score mas altos: 7.009708737864078\n"
     ]
    }
   ],
   "source": [
    "data_chunks = chunckify(root, 50)\n",
    "\n",
    "data_mapped = list(map(mapped_groupby_id, data_chunks))\n",
    "data_reduced = reduce(greatest_100, data_mapped)\n",
    "average_timeresp = prom_timeresp_most100(data_reduced)\n",
    "\n",
    "with open(\"output/prom_timeresp_most100_by_score.csv\", 'w', newline='') as csvfile:\n",
    "    writer = csv.writer(csvfile)\n",
    "    writer.writerow(['Average days'])\n",
    "    writer.writerow([average_timeresp])\n",
    "\n",
    "print(\"Promedio de tiempo de respuesta en días para los 100 score mas altos:\", average_timeresp)"
   ]
  }
 ],
 "metadata": {
  "kernelspec": {
   "display_name": "Python 3 (ipykernel)",
   "language": "python",
   "name": "python3"
  },
  "language_info": {
   "codemirror_mode": {
    "name": "ipython",
    "version": 3
   },
   "file_extension": ".py",
   "mimetype": "text/x-python",
   "name": "python",
   "nbconvert_exporter": "python",
   "pygments_lexer": "ipython3",
   "version": "3.9.12"
  }
 },
 "nbformat": 4,
 "nbformat_minor": 5
}

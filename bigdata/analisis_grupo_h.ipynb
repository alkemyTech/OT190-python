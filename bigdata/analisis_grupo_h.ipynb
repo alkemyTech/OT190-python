{
 "cells": [
  {
   "cell_type": "markdown",
   "metadata": {},
   "source": [
    "Imports Necesarios"
   ]
  },
  {
   "cell_type": "code",
   "execution_count": 62,
   "metadata": {},
   "outputs": [],
   "source": [
    "from xml.etree import ElementTree as ET\n",
    "from lib.chunckify import chunckify\n",
    "from functools import reduce\n",
    "import operator\n",
    "import re\n",
    "import os\n",
    "from typing import Counter\n",
    "import pandas as pd\n",
    "from pandas import to_datetime\n",
    "import matplotlib.pyplot as plt\n",
    "import seaborn"
   ]
  },
  {
   "cell_type": "markdown",
   "metadata": {},
   "source": [
    "Obtencion de rutas necesarias"
   ]
  },
  {
   "cell_type": "code",
   "execution_count": 4,
   "metadata": {},
   "outputs": [],
   "source": [
    "# Ruta del directorio contenedor del atchivo actual\n",
    "root_path = os.path.abspath('')\n",
    "\n",
    "# Ruta del archivo posts.xml\n",
    "posts_path = os.path.join(root_path, \"dataset/Stack Overflow 11-2010/112010 Meta Stack Overflow/posts.xml\")\n",
    "\n",
    "# Ruta donde se guardaran los archivos\n",
    "output_path = os.path.join(root_path, 'output')\n",
    "\n",
    "# Lee el archivo posts.xml\n",
    "tree = ET.parse(posts_path)\n",
    "root = tree.getroot()"
   ]
  },
  {
   "cell_type": "markdown",
   "metadata": {},
   "source": [
    "### Top 10 palabras más usadas por cada tipo de Post"
   ]
  },
  {
   "cell_type": "markdown",
   "metadata": {},
   "source": [
    "Obtiene la id de cada post y cuenta las palabras que contiene"
   ]
  },
  {
   "cell_type": "code",
   "execution_count": 5,
   "metadata": {},
   "outputs": [],
   "source": [
    "def palabras_por_postype(data):\n",
    "    post_type = data.attrib['PostTypeId']\n",
    "    body = data.attrib['Body']\n",
    "    # Obtener todas las palabras del body en una lista\n",
    "    body = re.findall('(?<!\\S)[A-Za-z]+(?!\\S)|(?<!\\S)[A-Za-z]+(?=:(?!\\S))', body)\n",
    "    # Contar palabras\n",
    "    words = Counter(body)\n",
    "    return post_type, words"
   ]
  },
  {
   "cell_type": "markdown",
   "metadata": {},
   "source": [
    "Crea un diccionario con el tipo de post como clave y el contador de palabras como valor"
   ]
  },
  {
   "cell_type": "code",
   "execution_count": 6,
   "metadata": {},
   "outputs": [],
   "source": [
    "def separar_typeid(data,):\n",
    "    return dict([[postid, data[1].copy()]for postid in data[0]])"
   ]
  },
  {
   "cell_type": "markdown",
   "metadata": {},
   "source": [
    "A los tipo de post iguales, los une y actualiza los contadores de palabras"
   ]
  },
  {
   "cell_type": "code",
   "execution_count": 7,
   "metadata": {},
   "outputs": [],
   "source": [
    "def reduce_by_id(data1, data2):\n",
    "    for key,value in data2.items():\n",
    "        if key in data1.keys():\n",
    "            data1[key].update(data2[key])\n",
    "        else:\n",
    "            data1.update({key:value})\n",
    "        return data1"
   ]
  },
  {
   "cell_type": "markdown",
   "metadata": {},
   "source": [
    "Por cada chunk de datos, extrae los datos y los reduce"
   ]
  },
  {
   "cell_type": "code",
   "execution_count": 8,
   "metadata": {},
   "outputs": [],
   "source": [
    "def mapper(data):\n",
    "    words_count = list(map(palabras_por_postype, data))\n",
    "    words_count = list(map(separar_typeid, words_count))\n",
    "\n",
    "    reduced = reduce(reduce_by_id, words_count)\n",
    "    return reduced"
   ]
  },
  {
   "cell_type": "markdown",
   "metadata": {},
   "source": [
    "Obtiene el top 10 de palabras por tipo de post"
   ]
  },
  {
   "cell_type": "code",
   "execution_count": 9,
   "metadata": {},
   "outputs": [],
   "source": [
    "def get_top(data):\n",
    "    return data[0], data[1].most_common(10)"
   ]
  },
  {
   "cell_type": "markdown",
   "metadata": {},
   "source": [
    "Obtiene un conjunto de datos. Lo fracciona y le aplica Map Reduce. Luego obtiene el top 10 de palabras por tipo de post."
   ]
  },
  {
   "cell_type": "code",
   "execution_count": 40,
   "metadata": {},
   "outputs": [
    {
     "data": {
      "text/plain": [
       "[('the', 19080),\n",
       " ('to', 13918),\n",
       " ('a', 10950),\n",
       " ('I', 8542),\n",
       " ('of', 7286),\n",
       " ('and', 7105),\n",
       " ('is', 6280),\n",
       " ('that', 5849),\n",
       " ('it', 4975),\n",
       " ('on', 4555)]"
      ]
     },
     "execution_count": 40,
     "metadata": {},
     "output_type": "execute_result"
    }
   ],
   "source": [
    "data_chunks = chunckify(root,50)\n",
    "\n",
    "mapped = list(map(mapper, data_chunks))\n",
    "reduced_mapped = reduce(reduce_by_id, mapped)\n",
    "\n",
    "top = dict(map(get_top, reduced_mapped.items()))"
   ]
  },
  {
   "cell_type": "markdown",
   "metadata": {},
   "source": [
    "Con la extracción anterior, Crea una tabla y la guarda en un archivo csv"
   ]
  },
  {
   "cell_type": "code",
   "execution_count": 50,
   "metadata": {},
   "outputs": [
    {
     "data": {
      "text/html": [
       "<div>\n",
       "<style scoped>\n",
       "    .dataframe tbody tr th:only-of-type {\n",
       "        vertical-align: middle;\n",
       "    }\n",
       "\n",
       "    .dataframe tbody tr th {\n",
       "        vertical-align: top;\n",
       "    }\n",
       "\n",
       "    .dataframe thead th {\n",
       "        text-align: right;\n",
       "    }\n",
       "</style>\n",
       "<table border=\"1\" class=\"dataframe\">\n",
       "  <thead>\n",
       "    <tr style=\"text-align: right;\">\n",
       "      <th></th>\n",
       "      <th>Palabras</th>\n",
       "      <th>Cuenta</th>\n",
       "    </tr>\n",
       "  </thead>\n",
       "  <tbody>\n",
       "    <tr>\n",
       "      <th>0</th>\n",
       "      <td>the</td>\n",
       "      <td>19080</td>\n",
       "    </tr>\n",
       "    <tr>\n",
       "      <th>1</th>\n",
       "      <td>to</td>\n",
       "      <td>13918</td>\n",
       "    </tr>\n",
       "    <tr>\n",
       "      <th>2</th>\n",
       "      <td>a</td>\n",
       "      <td>10950</td>\n",
       "    </tr>\n",
       "    <tr>\n",
       "      <th>3</th>\n",
       "      <td>I</td>\n",
       "      <td>8542</td>\n",
       "    </tr>\n",
       "    <tr>\n",
       "      <th>4</th>\n",
       "      <td>of</td>\n",
       "      <td>7286</td>\n",
       "    </tr>\n",
       "    <tr>\n",
       "      <th>5</th>\n",
       "      <td>and</td>\n",
       "      <td>7105</td>\n",
       "    </tr>\n",
       "    <tr>\n",
       "      <th>6</th>\n",
       "      <td>is</td>\n",
       "      <td>6280</td>\n",
       "    </tr>\n",
       "    <tr>\n",
       "      <th>7</th>\n",
       "      <td>that</td>\n",
       "      <td>5849</td>\n",
       "    </tr>\n",
       "    <tr>\n",
       "      <th>8</th>\n",
       "      <td>it</td>\n",
       "      <td>4975</td>\n",
       "    </tr>\n",
       "    <tr>\n",
       "      <th>9</th>\n",
       "      <td>on</td>\n",
       "      <td>4555</td>\n",
       "    </tr>\n",
       "  </tbody>\n",
       "</table>\n",
       "</div>"
      ],
      "text/plain": [
       "  Palabras  Cuenta\n",
       "0      the   19080\n",
       "1       to   13918\n",
       "2        a   10950\n",
       "3        I    8542\n",
       "4       of    7286\n",
       "5      and    7105\n",
       "6       is    6280\n",
       "7     that    5849\n",
       "8       it    4975\n",
       "9       on    4555"
      ]
     },
     "execution_count": 50,
     "metadata": {},
     "output_type": "execute_result"
    }
   ],
   "source": [
    "dataframe1 = pd.DataFrame(top.get('1'), columns=['Palabras', 'Cuenta'])\n",
    "dataframe2 = pd.DataFrame(top.get('2'), columns=['Palabras', 'Cuenta'])\n",
    "dataframe1.to_csv(f'{output_path}/top_palabras_en_post_type_1.csv', index=False)\n",
    "dataframe2.to_csv(f'{output_path}/top_palabras_en_post_type_2.csv', index=False)"
   ]
  },
  {
   "cell_type": "code",
   "execution_count": 54,
   "metadata": {},
   "outputs": [
    {
     "data": {
      "image/png": "[encoded data removed]",
      "text/plain": [
       "<Figure size 720x432 with 1 Axes>"
      ]
     },
     "metadata": {},
     "output_type": "display_data"
    }
   ],
   "source": [
    "fig, ax = plt.subplots(figsize=(10,6), facecolor='#778899')\n",
    "\n",
    "posts= dataframe1.Palabras\n",
    "visitas = dataframe1.Cuenta\n",
    "\n",
    "ax.set_title('Top 10 Palabras por post de tipo Preguntas')\n",
    "ax.barh(posts, visitas, height=0.4, color='#483D8B')\n",
    "ax.set_facecolor('#778899')\n",
    "ax.set_xlabel('Cantidad', fontsize=14)\n",
    "ax.set_ylabel('Palabras', fontsize=14)\n",
    "plt.show()"
   ]
  },
  {
   "cell_type": "code",
   "execution_count": 61,
   "metadata": {},
   "outputs": [
    {
     "data": {
      "image/png": "[encoded data removed]",
      "text/plain": [
       "<Figure size 720x432 with 1 Axes>"
      ]
     },
     "metadata": {},
     "output_type": "display_data"
    }
   ],
   "source": [
    "posts= dataframe2.Palabras\n",
    "visitas = dataframe2.Cuenta\n",
    "\n",
    "fig, ax = plt.subplots(figsize=(10,6), facecolor='#778899')\n",
    "\n",
    "ax.set_title('Top 10 Palabras por post de tipo Respuestas')\n",
    "ax.barh(posts, visitas, height=0.4, color='#483D8B')\n",
    "ax.set_facecolor('#778899')\n",
    "ax.set_xlabel('Cantidad', fontsize=14)\n",
    "ax.set_ylabel('Palabras', fontsize=14)\n",
    "plt.show()"
   ]
  },
  {
   "cell_type": "markdown",
   "metadata": {},
   "source": [
    "### Top 10 posts menos vistos"
   ]
  },
  {
   "cell_type": "markdown",
   "metadata": {},
   "source": [
    "Por cada post, extrae la cantidad de visitas"
   ]
  },
  {
   "cell_type": "code",
   "execution_count": 79,
   "metadata": {},
   "outputs": [],
   "source": [
    "def least_viewed(data):\n",
    "    # Id de cada post\n",
    "    post_id = data.attrib['Id']\n",
    "    # Cuenta de las vistas\n",
    "    view_count = data.attrib['ViewCount']\n",
    "    dictionary = {post_id: int(view_count)}\n",
    "    return dictionary"
   ]
  },
  {
   "cell_type": "markdown",
   "metadata": {},
   "source": [
    "Ignora los posts que no tengan visitas"
   ]
  },
  {
   "cell_type": "code",
   "execution_count": 80,
   "metadata": {},
   "outputs": [],
   "source": [
    "def reduce_items(data1:dict,data2):\n",
    "    for key, value in data2.items():\n",
    "        if value != 0:\n",
    "            data1.update(data2)\n",
    "        elif 0 in data1.values():\n",
    "            data1.popitem()\n",
    "    return data1"
   ]
  },
  {
   "cell_type": "markdown",
   "metadata": {},
   "source": [
    "Retorna el top 10 posts menos vistos como diccionario con la id de cada post como llave y sus visitas como valor"
   ]
  },
  {
   "cell_type": "code",
   "execution_count": 81,
   "metadata": {},
   "outputs": [],
   "source": [
    "def top10_least_viewed(data):\n",
    "    s = sorted(data.items(), key=operator.itemgetter(1), reverse=False)\n",
    "    d = []\n",
    "    for i in range(10):\n",
    "        d.append(s[i])\n",
    "        # d.update(dict(s[i]))\n",
    "    return dict(d)"
   ]
  },
  {
   "cell_type": "markdown",
   "metadata": {},
   "source": [
    "Define el proceso de extraccion y reduccion para cada chunk de datos"
   ]
  },
  {
   "cell_type": "code",
   "execution_count": 82,
   "metadata": {},
   "outputs": [],
   "source": [
    "def mapper(data):\n",
    "    post_viewd = list(map(least_viewed, data))\n",
    "    reducing = reduce(reduce_items, post_viewd)\n",
    "    return reducing"
   ]
  },
  {
   "cell_type": "markdown",
   "metadata": {},
   "source": [
    "Obtiene un conjunto de datos, lo fracciona y le aplica el proceso correspondiente"
   ]
  },
  {
   "cell_type": "code",
   "execution_count": 83,
   "metadata": {},
   "outputs": [],
   "source": [
    "data_chunks = chunckify(root,50)\n",
    "\n",
    "mapped = list(map(mapper, data_chunks))\n",
    "reduce_mapped = reduce(reduce_items, mapped)\n",
    "\n",
    "top10 = top10_least_viewed(reduce_mapped)"
   ]
  },
  {
   "cell_type": "markdown",
   "metadata": {},
   "source": [
    "Guarda el top 10 de los posts menos vistos en un archivo csv"
   ]
  },
  {
   "cell_type": "code",
   "execution_count": 84,
   "metadata": {},
   "outputs": [
    {
     "data": {
      "text/html": [
       "<div>\n",
       "<style scoped>\n",
       "    .dataframe tbody tr th:only-of-type {\n",
       "        vertical-align: middle;\n",
       "    }\n",
       "\n",
       "    .dataframe tbody tr th {\n",
       "        vertical-align: top;\n",
       "    }\n",
       "\n",
       "    .dataframe thead th {\n",
       "        text-align: right;\n",
       "    }\n",
       "</style>\n",
       "<table border=\"1\" class=\"dataframe\">\n",
       "  <thead>\n",
       "    <tr style=\"text-align: right;\">\n",
       "      <th></th>\n",
       "      <th>Posts</th>\n",
       "      <th>Visitas</th>\n",
       "    </tr>\n",
       "  </thead>\n",
       "  <tbody>\n",
       "    <tr>\n",
       "      <th>0</th>\n",
       "      <td>617</td>\n",
       "      <td>1</td>\n",
       "    </tr>\n",
       "    <tr>\n",
       "      <th>1</th>\n",
       "      <td>59881</td>\n",
       "      <td>5</td>\n",
       "    </tr>\n",
       "    <tr>\n",
       "      <th>2</th>\n",
       "      <td>58985</td>\n",
       "      <td>7</td>\n",
       "    </tr>\n",
       "    <tr>\n",
       "      <th>3</th>\n",
       "      <td>60468</td>\n",
       "      <td>7</td>\n",
       "    </tr>\n",
       "    <tr>\n",
       "      <th>4</th>\n",
       "      <td>20024</td>\n",
       "      <td>8</td>\n",
       "    </tr>\n",
       "    <tr>\n",
       "      <th>5</th>\n",
       "      <td>62483</td>\n",
       "      <td>8</td>\n",
       "    </tr>\n",
       "    <tr>\n",
       "      <th>6</th>\n",
       "      <td>66002</td>\n",
       "      <td>8</td>\n",
       "    </tr>\n",
       "    <tr>\n",
       "      <th>7</th>\n",
       "      <td>55746</td>\n",
       "      <td>9</td>\n",
       "    </tr>\n",
       "    <tr>\n",
       "      <th>8</th>\n",
       "      <td>62204</td>\n",
       "      <td>9</td>\n",
       "    </tr>\n",
       "    <tr>\n",
       "      <th>9</th>\n",
       "      <td>63096</td>\n",
       "      <td>9</td>\n",
       "    </tr>\n",
       "  </tbody>\n",
       "</table>\n",
       "</div>"
      ],
      "text/plain": [
       "   Posts  Visitas\n",
       "0    617        1\n",
       "1  59881        5\n",
       "2  58985        7\n",
       "3  60468        7\n",
       "4  20024        8\n",
       "5  62483        8\n",
       "6  66002        8\n",
       "7  55746        9\n",
       "8  62204        9\n",
       "9  63096        9"
      ]
     },
     "execution_count": 84,
     "metadata": {},
     "output_type": "execute_result"
    }
   ],
   "source": [
    "df = pd.DataFrame(top10.items(), columns=['Posts', 'Visitas'])\n",
    "df.to_csv(f'{output_path}/top_10_posts_menos_vistos.csv', index=False)\n",
    "df"
   ]
  },
  {
   "cell_type": "code",
   "execution_count": 112,
   "metadata": {},
   "outputs": [
    {
     "data": {
      "image/png": "[encoded data removed]",
      "text/plain": [
       "<Figure size 1000x600 with 1 Axes>"
      ]
     },
     "metadata": {},
     "output_type": "display_data"
    }
   ],
   "source": [
    "fig, ax = plt.subplots(figsize=(10,6), facecolor='#778899')\n",
    "\n",
    "posts= df.Posts\n",
    "visitas = df.Visitas\n",
    "\n",
    "ax.barh(posts, visitas, height=0.4, color='#483D8B')\n",
    "ax.set_facecolor('#778899')\n",
    "ax.set_xlabel('Visitas', fontsize=14)\n",
    "ax.set_ylabel('Posts Id', fontsize=14)\n",
    "plt.show()"
   ]
  },
  {
   "cell_type": "code",
   "execution_count": 65,
   "metadata": {},
   "outputs": [
    {
     "data": {
      "text/plain": [
       "<AxesSubplot:xlabel='Palabras', ylabel='Cuenta'>"
      ]
     },
     "execution_count": 65,
     "metadata": {},
     "output_type": "execute_result"
    },
    {
     "data": {
      "image/png": "[encoded data removed]",
      "text/plain": [
       "<Figure size 432x288 with 1 Axes>"
      ]
     },
     "metadata": {
      "needs_background": "light"
     },
     "output_type": "display_data"
    }
   ],
   "source": [
    "seaborn.barplot(x=posts, y=visitas)"
   ]
  },
  {
   "cell_type": "markdown",
   "metadata": {},
   "source": [
    "### Del ranking de los primeros 300-400 por score, promedia la cantidad de tiempo que se tarda en realizar una respuesta aceptada"
   ]
  },
  {
   "cell_type": "markdown",
   "metadata": {},
   "source": [
    "Extrae el Id, Score, CreationDate, y AcceptedAnswerId de cada post"
   ]
  },
  {
   "cell_type": "code",
   "execution_count": 32,
   "metadata": {},
   "outputs": [],
   "source": [
    "def postdate_postid(data):\n",
    "    post_id = data.attrib['Id']\n",
    "    score = data.attrib['Score']\n",
    "    creation_date = data.attrib['CreationDate']\n",
    "    try:\n",
    "        answer_id = data.attrib['AcceptedAnswerId']\n",
    "    except:\n",
    "        answer_id = None\n",
    "    t = (int(score), answer_id, creation_date)\n",
    "    d = {post_id: t}\n",
    "    return d"
   ]
  },
  {
   "cell_type": "markdown",
   "metadata": {},
   "source": [
    "Filtra todos los posts que no tengan AnswerId"
   ]
  },
  {
   "cell_type": "code",
   "execution_count": 33,
   "metadata": {},
   "outputs": [],
   "source": [
    "def filtering_none_answer(data):\n",
    "    for key, value in data.items():\n",
    "        if data== None:\n",
    "            pass\n",
    "        return value[1] != None"
   ]
  },
  {
   "cell_type": "markdown",
   "metadata": {},
   "source": [
    "Reduce, que ignora todos los posts que tengan un score igual a cero"
   ]
  },
  {
   "cell_type": "code",
   "execution_count": 34,
   "metadata": {},
   "outputs": [],
   "source": [
    "def reduce_items(data1:dict,data2):\n",
    "    if data2 != None:\n",
    "        for key, value in data2.items():\n",
    "            if value[0] != 0:\n",
    "                data1.update(data2)\n",
    "            elif 0 in data1.values():\n",
    "                data1.popitem()\n",
    "        return data1\n",
    "    else:\n",
    "        return data1"
   ]
  },
  {
   "cell_type": "markdown",
   "metadata": {},
   "source": [
    "Para cada chunk de datos, le realiza las funciones de map reduce"
   ]
  },
  {
   "cell_type": "code",
   "execution_count": 35,
   "metadata": {},
   "outputs": [],
   "source": [
    "def mapper(data):\n",
    "    post_score = list(map(postdate_postid, data))\n",
    "    filtering = list(filter(filtering_none_answer, post_score))\n",
    "    if len(filtering) > 0:\n",
    "        reduced = reduce(reduce_items, filtering)\n",
    "        return reduced"
   ]
  },
  {
   "cell_type": "markdown",
   "metadata": {},
   "source": [
    "Devuelve el top 400 de posts con mayor score"
   ]
  },
  {
   "cell_type": "code",
   "execution_count": 36,
   "metadata": {},
   "outputs": [],
   "source": [
    "def top400_por_score(data):\n",
    "    d = Counter(data)\n",
    "    d = d.most_common(400)\n",
    "    return dict(d)"
   ]
  },
  {
   "cell_type": "markdown",
   "metadata": {},
   "source": [
    "Obtiene el tiempo promedio en el que se acepta una respuesta en stack overflow"
   ]
  },
  {
   "cell_type": "code",
   "execution_count": 37,
   "metadata": {},
   "outputs": [],
   "source": [
    "def obtener_tiempo_promedio(top400):\n",
    "    a = 0\n",
    "    for key, value in top400.items():\n",
    "        question_date = value[2]\n",
    "        answer_row = root.findall(f\".//row[@Id='{value[1]}']\")\n",
    "        answer_date = answer_row[0].attrib['CreationDate']\n",
    "        a+=to_datetime(answer_date).to_numpy() - to_datetime(question_date).to_numpy()\n",
    "    return int(((a/400)/10**9))/60"
   ]
  },
  {
   "cell_type": "markdown",
   "metadata": {},
   "source": [
    "Extrae los datos del archivo posts, lo fracciona en varios conjuntos de datos y le aplica map reduce"
   ]
  },
  {
   "cell_type": "code",
   "execution_count": 39,
   "metadata": {},
   "outputs": [],
   "source": [
    "tree = ET.parse(f'{posts_path}')\n",
    "root = tree.getroot()\n",
    "data_chunks = chunckify(root,50)\n",
    "mapped = list(map(mapper, data_chunks))\n",
    "reduced = reduce(reduce_items, mapped)\n",
    "top400 = top400_por_score(reduced)\n",
    "promedio = obtener_tiempo_promedio(top400)"
   ]
  },
  {
   "cell_type": "code",
   "execution_count": 43,
   "metadata": {},
   "outputs": [
    {
     "name": "stdout",
     "output_type": "stream",
     "text": [
      "39972.78333333333 minutos\n"
     ]
    }
   ],
   "source": [
    "print(promedio, 'minutos')"
   ]
  },
  {
   "cell_type": "markdown",
   "metadata": {},
   "source": [
    "Analizando la relación entre la cantidad de palabras y cantidad de respuestas, podemos observar que realizar preguntas de más de 600 palabras no lograría que se incremente la cantidad de respuestas. En el rango entre 200 y 600 palabras es donde se observa la mayor cantidad de respuestas, esto podría suceder debido a que las preguntas más extensas podrían tener requerimientos más específicos o podrían ser más engorrosas de leer, generando que obtengan menos respuestas.  "
   ]
  }
 ],
 "metadata": {
  "interpreter": {
   "hash": "908e4849b4db23dfe3957f0522abf33224777bc5ab0d7047a53729ea6e2d9002"
  },
  "kernelspec": {
   "display_name": "Python 3.10.4 ('venv': venv)",
   "language": "python",
   "name": "python3"
  },
  "language_info": {
   "codemirror_mode": {
    "name": "ipython",
    "version": 3
   },
   "file_extension": ".py",
   "mimetype": "text/x-python",
   "name": "python",
   "nbconvert_exporter": "python",
   "pygments_lexer": "ipython3",
   "version": "3.10.4"
  },
  "orig_nbformat": 4
 },
 "nbformat": 4,
 "nbformat_minor": 2
}

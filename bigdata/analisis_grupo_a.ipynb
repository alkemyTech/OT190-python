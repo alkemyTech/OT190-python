{
 "cells": [
  {
   "cell_type": "markdown",
   "metadata": {},
   "source": [
    "# Analísis del Grupo A\n",
    "#### Alkemy OT190-PYTHON\n",
    "##### Tomás Martínez"
   ]
  },
  {
   "cell_type": "markdown",
   "metadata": {},
   "source": [
    "### Script Setup"
   ]
  },
  {
   "cell_type": "code",
   "execution_count": 3,
   "metadata": {},
   "outputs": [],
   "source": [
    "import xml.etree.ElementTree as ET\n",
    "import datetime\n",
    "import pandas as pd\n",
    "import math\n",
    "import operator\n",
    "import os\n",
    "import re\n",
    "import seaborn as sns\n",
    "import numpy as np\n",
    "from typing import Counter\n",
    "from functools import reduce\n",
    "from multiprocessing import Pool\n",
    "\n",
    "import time\n",
    "\n",
    "#Locations\n",
    "PATH_DATASET = os.path.join(os.getcwd(), 'dataset', 'Stack Overflow 11-2010', '112010 Meta Stack Overflow', 'posts.xml')\n",
    "PATH_OUTPUT  = os.path.join(os.getcwd(), 'output')\n",
    "\n",
    "#Load XML dataset\n",
    "tree = ET.parse(PATH_DATASET)\n",
    "root = tree.getroot()\n",
    "\n",
    "#Helpers\n",
    "def chunkify(iterable,len_of_chunk):\n",
    "    for i in range(0,len(iterable), len_of_chunk):\n",
    "        yield iterable[i:i + len_of_chunk]\n",
    "def flatten(dato):\n",
    "    return reduce(operator.concat, dato, [])\n",
    "def striphtml(data):\n",
    "    p = re.compile(r'<.*?>')\n",
    "    return p.sub('', data)"
   ]
  },
  {
   "cell_type": "markdown",
   "metadata": {},
   "source": [
    "## Top 10 tags con mayores respuestas aceptadas"
   ]
  },
  {
   "cell_type": "markdown",
   "metadata": {},
   "source": [
    "### Map Functions and mapper"
   ]
  },
  {
   "cell_type": "code",
   "execution_count": 4,
   "metadata": {},
   "outputs": [],
   "source": [
    "def obtener_tags_raw(chunk):#Map\n",
    "    if 'AcceptedAnswerId' in chunk.attrib:\n",
    "        tags = chunk.attrib.get(\"Tags\")\n",
    "        return tags\n",
    "        \n",
    "def transformar_en_lista(dato):#Map\n",
    "    return dato.replace('><' , ' ').lstrip('<').rstrip('>').split()\n",
    "\n",
    "def mapper(root_chunks):#Mapper\n",
    "    mapped = list(map(obtener_tags_raw, root_chunks))\n",
    "    mapped = list(filter(None, mapped))\n",
    "    mapped = list(map(transformar_en_lista, mapped))   \n",
    "    mapped = list(flatten(mapped))   \n",
    "    return dict(Counter(mapped))"
   ]
  },
  {
   "cell_type": "markdown",
   "metadata": {},
   "source": [
    "### Funciones reduce y reducer"
   ]
  },
  {
   "cell_type": "code",
   "execution_count": 5,
   "metadata": {},
   "outputs": [],
   "source": [
    "def reducir_dict_palabra_cantidad(dict_1, dict_2):#Reduce\n",
    "    get_set = set(dict_1)|set(dict_2)\n",
    "    for key in get_set:\n",
    "        dict_2.update( {key : dict_1.get(key,0) + dict_2.get(key,0)} )\n",
    "    return dict_2\n",
    "\n",
    "def reducer(data_chunks):#Reducer\n",
    "    reduced = reduce(reducir_dict_palabra_cantidad, data_chunks)\n",
    "    return reduced"
   ]
  },
  {
   "cell_type": "markdown",
   "metadata": {},
   "source": [
    "### Map Reduce - Código y explicación"
   ]
  },
  {
   "cell_type": "code",
   "execution_count": 6,
   "metadata": {},
   "outputs": [],
   "source": [
    "root_chunks = chunkify(root, 100)\n",
    "mapped = list(map(mapper, root_chunks))\n",
    "reduced = reducer(mapped)"
   ]
  },
  {
   "cell_type": "markdown",
   "metadata": {},
   "source": [
    "En primer lugar la variable ```root_chunks``` contiene una lista con el dataset partido entre 100 partes iguales con ```chunkify()```\n",
    "\n",
    "Luego la función ```mapper()``` se mapea a cada chunk, subsecuentemente dentro de la función mapper hay maps que aplicarán al contenido de cada chunk, uno de estos maps, ```obtener_tags_raw()``` es un filtro que trae solo tags de las respuestas aceptadas, el resto de los maps se encargan del formato concluyendo así el [shuffle](https://data-flair.training/blogs/shuffling-and-sorting-in-hadoop/#:~:text=Shuffle%20phase%20in%20Hadoop%20transfers,associated%20with%20the%20same%20key.)\n",
    "\n",
    "Por último  ```reducer()``` se le aplicará a nuestros chunks ya mapeados para subsecuentemente aplicar la función ```reducir_dict_palabra_cantidad()``` que reduce el contenido de cada chunk dejando las sumatorias de los puntos de cada tag en la variable ```reduced```\n"
   ]
  },
  {
   "cell_type": "markdown",
   "metadata": {},
   "source": [
    "### Volcado a archivo .csv"
   ]
  },
  {
   "cell_type": "code",
   "execution_count": 7,
   "metadata": {},
   "outputs": [
    {
     "data": {
      "text/html": [
       "<div>\n",
       "<style scoped>\n",
       "    .dataframe tbody tr th:only-of-type {\n",
       "        vertical-align: middle;\n",
       "    }\n",
       "\n",
       "    .dataframe tbody tr th {\n",
       "        vertical-align: top;\n",
       "    }\n",
       "\n",
       "    .dataframe thead th {\n",
       "        text-align: right;\n",
       "    }\n",
       "</style>\n",
       "<table border=\"1\" class=\"dataframe\">\n",
       "  <thead>\n",
       "    <tr style=\"text-align: right;\">\n",
       "      <th></th>\n",
       "      <th>Tag</th>\n",
       "      <th>AcceptedAnswers</th>\n",
       "    </tr>\n",
       "  </thead>\n",
       "  <tbody>\n",
       "    <tr>\n",
       "      <th>0</th>\n",
       "      <td>discussion</td>\n",
       "      <td>2875</td>\n",
       "    </tr>\n",
       "    <tr>\n",
       "      <th>1</th>\n",
       "      <td>feature-request</td>\n",
       "      <td>1775</td>\n",
       "    </tr>\n",
       "    <tr>\n",
       "      <th>2</th>\n",
       "      <td>support</td>\n",
       "      <td>1723</td>\n",
       "    </tr>\n",
       "    <tr>\n",
       "      <th>3</th>\n",
       "      <td>bug</td>\n",
       "      <td>1252</td>\n",
       "    </tr>\n",
       "    <tr>\n",
       "      <th>4</th>\n",
       "      <td>status-completed</td>\n",
       "      <td>1189</td>\n",
       "    </tr>\n",
       "    <tr>\n",
       "      <th>5</th>\n",
       "      <td>stackoverflow</td>\n",
       "      <td>679</td>\n",
       "    </tr>\n",
       "    <tr>\n",
       "      <th>6</th>\n",
       "      <td>reputation</td>\n",
       "      <td>518</td>\n",
       "    </tr>\n",
       "    <tr>\n",
       "      <th>7</th>\n",
       "      <td>tags</td>\n",
       "      <td>449</td>\n",
       "    </tr>\n",
       "    <tr>\n",
       "      <th>8</th>\n",
       "      <td>questions</td>\n",
       "      <td>408</td>\n",
       "    </tr>\n",
       "    <tr>\n",
       "      <th>9</th>\n",
       "      <td>status-bydesign</td>\n",
       "      <td>382</td>\n",
       "    </tr>\n",
       "  </tbody>\n",
       "</table>\n",
       "</div>"
      ],
      "text/plain": [
       "                Tag  AcceptedAnswers\n",
       "0        discussion             2875\n",
       "1   feature-request             1775\n",
       "2           support             1723\n",
       "3               bug             1252\n",
       "4  status-completed             1189\n",
       "5     stackoverflow              679\n",
       "6        reputation              518\n",
       "7              tags              449\n",
       "8         questions              408\n",
       "9   status-bydesign              382"
      ]
     },
     "execution_count": 7,
     "metadata": {},
     "output_type": "execute_result"
    }
   ],
   "source": [
    "df = pd.DataFrame(Counter(reduced).most_common(10), columns=['Tag', 'AcceptedAnswer'])\n",
    "df.to_csv(f'{PATH_OUTPUT}/Grupo_A-top_10_tags_rtas_aceptadas.csv', index=False)\n",
    "df = pd.read_csv(f'{PATH_OUTPUT}/Grupo_A-top_10_tags_rtas_aceptadas.csv', header=0, names=[\"Tag\", \"AcceptedAnswers\"])\n",
    "df"
   ]
  },
  {
   "cell_type": "markdown",
   "metadata": {},
   "source": [
    "## Relación entre cantidad de palabras en un post y su puntaje"
   ]
  },
  {
   "cell_type": "markdown",
   "metadata": {},
   "source": [
    "### Mapper"
   ]
  },
  {
   "cell_type": "code",
   "execution_count": 8,
   "metadata": {},
   "outputs": [],
   "source": [
    "def obtener_palabraspost_postscore(chunk):#Map\n",
    "    if chunk.attrib.get(\"PostTypeId\") == '1':\n",
    "        post_score = chunk.attrib.get(\"Score\")\n",
    "        post_body = striphtml(chunk.attrib.get(\"Body\"))\n",
    "        body_words = Counter(post_body.split())\n",
    "        count_body_words = len(body_words)\n",
    "        if count_body_words:\n",
    "            return {int(count_body_words) : int(post_score)}\n",
    "\n",
    "def mapper(root_chunks):\n",
    "    mapped = list(map(obtener_palabraspost_postscore, root_chunks))\n",
    "    mapped = list(filter(None, mapped))\n",
    "    return mapped"
   ]
  },
  {
   "cell_type": "markdown",
   "metadata": {},
   "source": [
    "### Reduce"
   ]
  },
  {
   "cell_type": "code",
   "execution_count": 9,
   "metadata": {},
   "outputs": [],
   "source": [
    "def reductor(data1, data2):\n",
    "    for key, value2 in data2.items():\n",
    "        if key in data1.keys():\n",
    "            data1.update({key: int(math.ceil((data1[key]+value2)/2))})\n",
    "        else:\n",
    "            data1.update({key: value2})\n",
    "    return data1"
   ]
  },
  {
   "cell_type": "code",
   "execution_count": 10,
   "metadata": {},
   "outputs": [],
   "source": [
    "root_chunks = chunkify(root, 100)\n",
    "mapped = list(map(mapper, root_chunks))\n",
    "mapped = list(flatten(mapped))\n",
    "reduced = reduce(reductor, mapped)\n",
    "\n",
    "df = pd.DataFrame(reduced.items(), columns=['WordsPerPost', 'Score'])"
   ]
  },
  {
   "cell_type": "markdown",
   "metadata": {},
   "source": [
    "### Volcado a archivo csv"
   ]
  },
  {
   "cell_type": "code",
   "execution_count": 11,
   "metadata": {},
   "outputs": [
    {
     "data": {
      "text/html": [
       "<div>\n",
       "<style scoped>\n",
       "    .dataframe tbody tr th:only-of-type {\n",
       "        vertical-align: middle;\n",
       "    }\n",
       "\n",
       "    .dataframe tbody tr th {\n",
       "        vertical-align: top;\n",
       "    }\n",
       "\n",
       "    .dataframe thead th {\n",
       "        text-align: right;\n",
       "    }\n",
       "</style>\n",
       "<table border=\"1\" class=\"dataframe\">\n",
       "  <thead>\n",
       "    <tr style=\"text-align: right;\">\n",
       "      <th></th>\n",
       "      <th>WordsPerPost</th>\n",
       "      <th>Score</th>\n",
       "    </tr>\n",
       "  </thead>\n",
       "  <tbody>\n",
       "    <tr>\n",
       "      <th>337</th>\n",
       "      <td>1274</td>\n",
       "      <td>37</td>\n",
       "    </tr>\n",
       "    <tr>\n",
       "      <th>241</th>\n",
       "      <td>993</td>\n",
       "      <td>16</td>\n",
       "    </tr>\n",
       "    <tr>\n",
       "      <th>353</th>\n",
       "      <td>716</td>\n",
       "      <td>3</td>\n",
       "    </tr>\n",
       "    <tr>\n",
       "      <th>323</th>\n",
       "      <td>711</td>\n",
       "      <td>2</td>\n",
       "    </tr>\n",
       "    <tr>\n",
       "      <th>299</th>\n",
       "      <td>681</td>\n",
       "      <td>-6</td>\n",
       "    </tr>\n",
       "    <tr>\n",
       "      <th>...</th>\n",
       "      <td>...</td>\n",
       "      <td>...</td>\n",
       "    </tr>\n",
       "    <tr>\n",
       "      <th>124</th>\n",
       "      <td>5</td>\n",
       "      <td>3</td>\n",
       "    </tr>\n",
       "    <tr>\n",
       "      <th>181</th>\n",
       "      <td>4</td>\n",
       "      <td>3</td>\n",
       "    </tr>\n",
       "    <tr>\n",
       "      <th>286</th>\n",
       "      <td>3</td>\n",
       "      <td>3</td>\n",
       "    </tr>\n",
       "    <tr>\n",
       "      <th>330</th>\n",
       "      <td>2</td>\n",
       "      <td>3</td>\n",
       "    </tr>\n",
       "    <tr>\n",
       "      <th>229</th>\n",
       "      <td>1</td>\n",
       "      <td>4</td>\n",
       "    </tr>\n",
       "  </tbody>\n",
       "</table>\n",
       "<p>365 rows × 2 columns</p>\n",
       "</div>"
      ],
      "text/plain": [
       "     WordsPerPost  Score\n",
       "337          1274     37\n",
       "241           993     16\n",
       "353           716      3\n",
       "323           711      2\n",
       "299           681     -6\n",
       "..            ...    ...\n",
       "124             5      3\n",
       "181             4      3\n",
       "286             3      3\n",
       "330             2      3\n",
       "229             1      4\n",
       "\n",
       "[365 rows x 2 columns]"
      ]
     },
     "execution_count": 11,
     "metadata": {},
     "output_type": "execute_result"
    }
   ],
   "source": [
    "df.to_csv(f'{PATH_OUTPUT}/Grupo_A-relacion_palabras_por_post_puntaje.csv', index=False)\n",
    "df = pd.read_csv(f'{PATH_OUTPUT}/Grupo_A-relacion_palabras_por_post_puntaje.csv', header=0, names=[\"WordsPerPost\", \"Score\"])\n",
    "df.sort_values(by=['WordsPerPost'], ascending=False)"
   ]
  },
  {
   "cell_type": "markdown",
   "metadata": {},
   "source": [
    "### Scatterplot\n",
    "En este scatterplot podemos ver cómo en promedio la mayoría de los upvotes fueron a los posts con menos de 450 palabras"
   ]
  },
  {
   "cell_type": "code",
   "execution_count": 12,
   "metadata": {},
   "outputs": [
    {
     "data": {
      "text/plain": [
       "<seaborn.axisgrid.JointGrid at 0x7f4d80076d90>"
      ]
     },
     "execution_count": 12,
     "metadata": {},
     "output_type": "execute_result"
    },
    {
     "data": {
      "image/png": "[encoded data removed]",
      "text/plain": [
       "<Figure size 432x432 with 3 Axes>"
      ]
     },
     "metadata": {
      "needs_background": "light"
     },
     "output_type": "display_data"
    }
   ],
   "source": [
    "df.dropna(inplace=False)\n",
    "sns.jointplot(x = \"Score\", y = \"WordsPerPost\", data = df)"
   ]
  },
  {
   "cell_type": "markdown",
   "metadata": {},
   "source": [
    "## Demora de respuesta promedio en posts"
   ]
  },
  {
   "cell_type": "markdown",
   "metadata": {},
   "source": [
    "### Mapper"
   ]
  },
  {
   "cell_type": "code",
   "execution_count": 9,
   "metadata": {},
   "outputs": [],
   "source": [
    "# def obtener_dict_postid_fechacreate(chunk):#Map\n",
    "#     if '1' in chunk.attrib.get(\"PostTypeId\"):        \n",
    "#         post_id = chunk.attrib.get(\"Id\")        \n",
    "#         fecha_creac_orig = chunk.attrib.get(\"CreationDate\")\n",
    "#         fecha_creac_orig = fecha_creac_orig.replace('T', ' ').split('.')[0]\n",
    "#         dt_fecha_creac_orig = datetime.datetime.strptime(fecha_creac_orig, '%Y-%m-%d %H:%M:%S')\n",
    "#         unix_time = datetime.datetime.timestamp(dt_fecha_creac_orig)\n",
    "#         return {post_id : unix_time}\n",
    "\n",
    "\n",
    "# def mapper(root_chunks):\n",
    "#     mapped_1 = list(map(obtener_dict_postid_fechacreate, root_chunks))\n",
    "#     mapped_1 = list(filter(None, mapped_1))\n",
    "#     return mapped"
   ]
  },
  {
   "cell_type": "code",
   "execution_count": null,
   "metadata": {},
   "outputs": [],
   "source": [
    "# root_chunks = chunkify(root, 100)\n",
    "# mapped = list(map(mapper, root_chunks))"
   ]
  }
 ],
 "metadata": {
  "interpreter": {
   "hash": "916dbcbb3f70747c44a77c7bcd40155683ae19c65e1c03b4aa3499c5328201f1"
  },
  "kernelspec": {
   "display_name": "Python 3.9.7 64-bit",
   "language": "python",
   "name": "python3"
  },
  "language_info": {
   "codemirror_mode": {
    "name": "ipython",
    "version": 3
   },
   "file_extension": ".py",
   "mimetype": "text/x-python",
   "name": "python",
   "nbconvert_exporter": "python",
   "pygments_lexer": "ipython3",
   "version": "3.9.7"
  },
  "orig_nbformat": 4
 },
 "nbformat": 4,
 "nbformat_minor": 2
}
